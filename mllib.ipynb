{
 "cells": [
  {
   "cell_type": "code",
   "execution_count": 65,
   "metadata": {
    "collapsed": false
   },
   "outputs": [
    {
     "data": {
      "text/plain": [
       "<pyspark.context.SparkContext at 0x10c7d10b8>"
      ]
     },
     "execution_count": 65,
     "metadata": {},
     "output_type": "execute_result"
    }
   ],
   "source": [
    "sc\n"
   ]
  },
  {
   "cell_type": "code",
   "execution_count": 66,
   "metadata": {
    "collapsed": true
   },
   "outputs": [],
   "source": [
    "from pyspark.sql import SQLContext\n",
    "sqlContext = SQLContext(sc)"
   ]
  },
  {
   "cell_type": "code",
   "execution_count": 67,
   "metadata": {
    "collapsed": true
   },
   "outputs": [],
   "source": [
    "df = sqlContext.read.parquet(\"tweets.consolidated.parquet\")"
   ]
  },
  {
   "cell_type": "code",
   "execution_count": 68,
   "metadata": {
    "collapsed": false
   },
   "outputs": [
    {
     "name": "stdout",
     "output_type": "stream",
     "text": [
      "+----------+------------------+--------------------+--------------------+--------+\n",
      "|      user|                id|                text|            location|hasMedia|\n",
      "+----------+------------------+--------------------+--------------------+--------+\n",
      "| 429803867|668129332066459648|e0b40f2381c430f6d...|[27.166142,73.852...|   false|\n",
      "|2575662781|668129436932415488|:) https://t.co/r...|[19.5371016,-96.9...|    true|\n",
      "|2558754024|668128681945092096|برد 😊 (@ miral -...|[29.10425394,48.1...|   false|\n",
      "| 175196235|668128627406610432|christmas market:...|[43.6506691,-79.3...|   false|\n",
      "| 737480838|668128627394019328|يا عزيزي يالمدريد...|[26.21390031,50.4...|   false|\n",
      "|  22921151|668129030068166657|#noelgeek #ghostb...|[45.50757496,-73....|   false|\n",
      "|  93448793|668129332041265152|Soooooo these #ne...|[38.72750195,-90....|   false|\n",
      "| 959736212|668128937801682945|Green Turtle in W...|[39.5640488,-76.9...|   false|\n",
      "|  59972446|668129025890455552|#Retail #Job in #...|[41.4517093,-82.0...|   false|\n",
      "|3234610719|668129269160222720|#StaracArabia\n",
      "الن...|[30.0960606,31.33...|   false|\n",
      "|2329037172|668128677763379201|Açlık oyunları al...|[38.33868221,27.1...|   false|\n",
      "|  86583009|668128749032902656|#beaurivagegolf #...|[34.11432705,-77....|   false|\n",
      "| 569410380|668129231386333185|@bm0406 @ionacrv ...|[19.09500403,72.8...|   false|\n",
      "|2781520319|668129369819357184|#Bilinmezlik @ İz...|[38.29360749,27.1...|   false|\n",
      "| 110213197|668128673560592384|Razón tenía aquel...|[9.91077394,-84.0...|   false|\n",
      "|1179981192|668129055238062081|349.336 personas ...|   [40.4203,-3.7058]|   false|\n",
      "| 156122032|668128820365512704|🎉🎉🎉 @ Quilmes,...| [-34.7203,-58.2694]|   false|\n",
      "|  27737029|668129436898885633|Risottinho de moq...|[-22.97027778,-43...|   false|\n",
      "| 245111438|668128317044826113|fish bowl fridays...|[42.09727335,-75....|   false|\n",
      "| 543604821|668128518354698242|Viendo el partido...|[19.39476248,-99....|   false|\n",
      "+----------+------------------+--------------------+--------------------+--------+\n",
      "only showing top 20 rows\n",
      "\n"
     ]
    }
   ],
   "source": [
    "df.show()\n"
   ]
  },
  {
   "cell_type": "code",
   "execution_count": 69,
   "metadata": {
    "collapsed": false
   },
   "outputs": [
    {
     "name": "stdout",
     "output_type": "stream",
     "text": [
      "root\n",
      " |-- user: long (nullable = true)\n",
      " |-- id: long (nullable = true)\n",
      " |-- text: string (nullable = true)\n",
      " |-- location: struct (nullable = true)\n",
      " |    |-- latitude: double (nullable = true)\n",
      " |    |-- longitude: double (nullable = true)\n",
      " |-- hasMedia: boolean (nullable = true)\n",
      "\n"
     ]
    }
   ],
   "source": [
    "df.printSchema()"
   ]
  },
  {
   "cell_type": "code",
   "execution_count": 70,
   "metadata": {
    "collapsed": false
   },
   "outputs": [
    {
     "name": "stdout",
     "output_type": "stream",
     "text": [
      "+--------------------+\n",
      "|                text|\n",
      "+--------------------+\n",
      "|e0b40f2381c430f6d...|\n",
      "|:) https://t.co/r...|\n",
      "|برد 😊 (@ miral -...|\n",
      "|christmas market:...|\n",
      "|يا عزيزي يالمدريد...|\n",
      "|#noelgeek #ghostb...|\n",
      "|Soooooo these #ne...|\n",
      "|Green Turtle in W...|\n",
      "|#Retail #Job in #...|\n",
      "|#StaracArabia\n",
      "الن...|\n",
      "|Açlık oyunları al...|\n",
      "|#beaurivagegolf #...|\n",
      "|@bm0406 @ionacrv ...|\n",
      "|#Bilinmezlik @ İz...|\n",
      "|Razón tenía aquel...|\n",
      "|349.336 personas ...|\n",
      "|🎉🎉🎉 @ Quilmes,...|\n",
      "|Risottinho de moq...|\n",
      "|fish bowl fridays...|\n",
      "|Viendo el partido...|\n",
      "+--------------------+\n",
      "only showing top 20 rows\n",
      "\n"
     ]
    },
    {
     "data": {
      "text/plain": [
       "2085"
      ]
     },
     "execution_count": 70,
     "metadata": {},
     "output_type": "execute_result"
    }
   ],
   "source": [
    "textDf = df.select(\"text\")\n",
    "textDf.show()\n",
    "textDf.count()"
   ]
  },
  {
   "cell_type": "code",
   "execution_count": 71,
   "metadata": {
    "collapsed": false
   },
   "outputs": [
    {
     "name": "stdout",
     "output_type": "stream",
     "text": [
      "+-------+--------------------+--------------------+\n",
      "|summary|                user|                  id|\n",
      "+-------+--------------------+--------------------+\n",
      "|  count|                2085|                2085|\n",
      "|   mean| 8.986858830489209E8|6.679669002385806...|\n",
      "| stddev|2.3303647371227983E8|                 NaN|\n",
      "|    min|             1629241|  667127803561844741|\n",
      "|    max|          4322320759|  668569637496340480|\n",
      "+-------+--------------------+--------------------+\n",
      "\n"
     ]
    }
   ],
   "source": [
    "df.describe().show()"
   ]
  },
  {
   "cell_type": "code",
   "execution_count": 72,
   "metadata": {
    "collapsed": false
   },
   "outputs": [
    {
     "name": "stdout",
     "output_type": "stream",
     "text": [
      "+--------+-----+\n",
      "|hasMedia|count|\n",
      "+--------+-----+\n",
      "|    true|  118|\n",
      "|   false| 1967|\n",
      "+--------+-----+\n",
      "\n"
     ]
    }
   ],
   "source": [
    "df.groupBy(\"hasMedia\").count().show()"
   ]
  },
  {
   "cell_type": "code",
   "execution_count": 73,
   "metadata": {
    "collapsed": true
   },
   "outputs": [],
   "source": [
    "words = textDf.flatMap(lambda row: row.text.split(\" \"))"
   ]
  },
  {
   "cell_type": "code",
   "execution_count": 74,
   "metadata": {
    "collapsed": false
   },
   "outputs": [],
   "source": [
    "from pyspark.sql import Row\n",
    "words_df = words.map(lambda w: Row(word=w, cnt=1)).toDF()"
   ]
  },
  {
   "cell_type": "code",
   "execution_count": 75,
   "metadata": {
    "collapsed": false
   },
   "outputs": [],
   "source": [
    "word_counts = words_df.groupBy(\"word\").sum()"
   ]
  },
  {
   "cell_type": "code",
   "execution_count": 76,
   "metadata": {
    "collapsed": false
   },
   "outputs": [
    {
     "name": "stdout",
     "output_type": "stream",
     "text": [
      "+--------------------+--------+\n",
      "|                word|sum(cnt)|\n",
      "+--------------------+--------+\n",
      "|          #livemusic|       1|\n",
      "|                  MS|       2|\n",
      "|               check|       7|\n",
      "|           PORTLAND,|       1|\n",
      "|          Beylikdüzü|       2|\n",
      "|                Club|       7|\n",
      "|              🍸🍹🍷|       1|\n",
      "|              casar,|       1|\n",
      "|           #ig_cuneo|       1|\n",
      "|                 7°C|       1|\n",
      "|                foot|       1|\n",
      "|        Platforms...|       1|\n",
      "|                Alto|       1|\n",
      "|               Sweet|       2|\n",
      "|              Porto,|       1|\n",
      "|                  мы|       2|\n",
      "|https://t.co/a8Da...|       1|\n",
      "|          disfrutar…|       1|\n",
      "|            Uvarovo,|       1|\n",
      "|https://t.co/UfuV...|       1|\n",
      "+--------------------+--------+\n",
      "only showing top 20 rows\n",
      "\n"
     ]
    }
   ],
   "source": [
    "word_counts.show()"
   ]
  },
  {
   "cell_type": "code",
   "execution_count": 77,
   "metadata": {
    "collapsed": true
   },
   "outputs": [],
   "source": [
    "words_df.registerTempTable(\"words\")"
   ]
  },
  {
   "cell_type": "code",
   "execution_count": 78,
   "metadata": {
    "collapsed": false
   },
   "outputs": [
    {
     "name": "stdout",
     "output_type": "stream",
     "text": [
      "+---+--------------------+\n",
      "|cnt|                word|\n",
      "+---+--------------------+\n",
      "|  1|e0b40f2381c430f6d...|\n",
      "|  1|                  :)|\n",
      "|  1|https://t.co/rIRY...|\n",
      "|  1|                 برد|\n",
      "|  1|                  😊|\n",
      "|  1|                  (@|\n",
      "|  1|               miral|\n",
      "|  1|                   -|\n",
      "|  1|               ميرال|\n",
      "|  1|                  in|\n",
      "|  1|             Kuwait)|\n",
      "|  1|https://t.co/YfNO...|\n",
      "|  1|           christmas|\n",
      "|  1|             market:|\n",
      "|  1|                that|\n",
      "|  1|                time|\n",
      "|  1|                  of|\n",
      "|  1|                 the|\n",
      "|  1|                year|\n",
      "|  1|               again|\n",
      "+---+--------------------+\n",
      "only showing top 20 rows\n",
      "\n"
     ]
    }
   ],
   "source": [
    "sqlContext.sql(\"SELECT * FROM words\").show()"
   ]
  },
  {
   "cell_type": "code",
   "execution_count": 79,
   "metadata": {
    "collapsed": false
   },
   "outputs": [
    {
     "name": "stdout",
     "output_type": "stream",
     "text": [
      "+---+--------------------+\n",
      "|cnt|                word|\n",
      "+---+--------------------+\n",
      "|  1|e0b40f2381c430f6d...|\n",
      "|  1|                  :)|\n",
      "|  1|https://t.co/rIRY...|\n",
      "|  1|                 برد|\n",
      "|  1|                  😊|\n",
      "|  1|                  (@|\n",
      "|  1|               miral|\n",
      "|  1|                   -|\n",
      "|  1|               ميرال|\n",
      "|  1|                  in|\n",
      "|  1|             Kuwait)|\n",
      "|  1|https://t.co/YfNO...|\n",
      "|  1|           christmas|\n",
      "|  1|             market:|\n",
      "|  1|                that|\n",
      "|  1|                time|\n",
      "|  1|                  of|\n",
      "|  1|                 the|\n",
      "|  1|                year|\n",
      "|  1|               again|\n",
      "+---+--------------------+\n",
      "only showing top 20 rows\n",
      "\n"
     ]
    }
   ],
   "source": [
    "sqlContext.sql(\"\"\"\n",
    "SELECT * FROM words\n",
    "\"\"\").show()"
   ]
  },
  {
   "cell_type": "code",
   "execution_count": 80,
   "metadata": {
    "collapsed": false
   },
   "outputs": [
    {
     "name": "stdout",
     "output_type": "stream",
     "text": [
      "+--------------------+---+\n",
      "|                word|_c1|\n",
      "+--------------------+---+\n",
      "|          #livemusic|  1|\n",
      "|                  MS|  2|\n",
      "|               check|  7|\n",
      "|           PORTLAND,|  1|\n",
      "|          Beylikdüzü|  2|\n",
      "|                Club|  7|\n",
      "|              🍸🍹🍷|  1|\n",
      "|              casar,|  1|\n",
      "|           #ig_cuneo|  1|\n",
      "|                 7°C|  1|\n",
      "|                foot|  1|\n",
      "|        Platforms...|  1|\n",
      "|                Alto|  1|\n",
      "|               Sweet|  2|\n",
      "|              Porto,|  1|\n",
      "|                  мы|  2|\n",
      "|https://t.co/a8Da...|  1|\n",
      "|          disfrutar…|  1|\n",
      "|            Uvarovo,|  1|\n",
      "|https://t.co/UfuV...|  1|\n",
      "+--------------------+---+\n",
      "only showing top 20 rows\n",
      "\n"
     ]
    }
   ],
   "source": [
    "sqlContext.sql(\"\"\"\n",
    "SELECT word,sum(cnt)\n",
    "FROM words\n",
    "GROUP BY word\n",
    "\"\"\").show()"
   ]
  },
  {
   "cell_type": "code",
   "execution_count": 81,
   "metadata": {
    "collapsed": false
   },
   "outputs": [
    {
     "name": "stdout",
     "output_type": "stream",
     "text": [
      "+----------+---+\n",
      "|      word|  c|\n",
      "+----------+---+\n",
      "|        at|514|\n",
      "|        in|499|\n",
      "|         @|401|\n",
      "|       I'm|344|\n",
      "|         -|232|\n",
      "|         —|184|\n",
      "|         a|180|\n",
      "|          |153|\n",
      "|        (@|143|\n",
      "|       the|124|\n",
      "|       and|118|\n",
      "|       for|117|\n",
      "|   #Hiring|112|\n",
      "|        de|108|\n",
      "|        to|106|\n",
      "|        w/| 97|\n",
      "|       (at| 79|\n",
      "|       you| 74|\n",
      "|#CareerArc| 72|\n",
      "|     #Jobs| 72|\n",
      "+----------+---+\n",
      "only showing top 20 rows\n",
      "\n"
     ]
    }
   ],
   "source": [
    "sqlContext.sql(\"\"\"\n",
    "SELECT word,sum(cnt) as c\n",
    "FROM words\n",
    "GROUP BY word\n",
    "ORDER BY c DESC\n",
    "\"\"\").show()"
   ]
  },
  {
   "cell_type": "code",
   "execution_count": 85,
   "metadata": {
    "collapsed": true
   },
   "outputs": [],
   "source": [
    "from pyspark.ml import Pipeline\n",
    "from pyspark.ml.classification import LogisticRegression\n",
    "from pyspark.ml.feature import HashingTF, Tokenizer\n",
    "from pyspark.sql import Row"
   ]
  },
  {
   "cell_type": "code",
   "execution_count": 86,
   "metadata": {
    "collapsed": false
   },
   "outputs": [],
   "source": [
    "def boolToInt(val):\n",
    "    if val:\n",
    "        return 1.0\n",
    "    else:\n",
    "        return 0.0\n",
    "\n",
    "ml_df = sqlContext.createDataFrame(df.map(lambda r : Row(id=r.id, text=r.text, label=boolToInt(r.hasMedia))).collect())\n",
    "\n"
   ]
  },
  {
   "cell_type": "code",
   "execution_count": 87,
   "metadata": {
    "collapsed": false
   },
   "outputs": [
    {
     "name": "stdout",
     "output_type": "stream",
     "text": [
      "+------------------+-----+--------------------+\n",
      "|                id|label|                text|\n",
      "+------------------+-----+--------------------+\n",
      "|668129332066459648|  0.0|e0b40f2381c430f6d...|\n",
      "|668129436932415488|  1.0|:) https://t.co/r...|\n",
      "|668128681945092096|  0.0|برد 😊 (@ miral -...|\n",
      "|668128627406610432|  0.0|christmas market:...|\n",
      "|668128627394019328|  0.0|يا عزيزي يالمدريد...|\n",
      "|668129030068166657|  0.0|#noelgeek #ghostb...|\n",
      "|668129332041265152|  0.0|Soooooo these #ne...|\n",
      "|668128937801682945|  0.0|Green Turtle in W...|\n",
      "|668129025890455552|  0.0|#Retail #Job in #...|\n",
      "|668129269160222720|  0.0|#StaracArabia\n",
      "الن...|\n",
      "|668128677763379201|  0.0|Açlık oyunları al...|\n",
      "|668128749032902656|  0.0|#beaurivagegolf #...|\n",
      "|668129231386333185|  0.0|@bm0406 @ionacrv ...|\n",
      "|668129369819357184|  0.0|#Bilinmezlik @ İz...|\n",
      "|668128673560592384|  0.0|Razón tenía aquel...|\n",
      "|668129055238062081|  0.0|349.336 personas ...|\n",
      "|668128820365512704|  0.0|🎉🎉🎉 @ Quilmes,...|\n",
      "|668129436898885633|  0.0|Risottinho de moq...|\n",
      "|668128317044826113|  0.0|fish bowl fridays...|\n",
      "|668128518354698242|  0.0|Viendo el partido...|\n",
      "+------------------+-----+--------------------+\n",
      "only showing top 20 rows\n",
      "\n"
     ]
    }
   ],
   "source": [
    "ml_df.show()"
   ]
  },
  {
   "cell_type": "code",
   "execution_count": 88,
   "metadata": {
    "collapsed": false
   },
   "outputs": [
    {
     "name": "stdout",
     "output_type": "stream",
     "text": [
      "root\n",
      " |-- id: long (nullable = true)\n",
      " |-- label: double (nullable = true)\n",
      " |-- text: string (nullable = true)\n",
      "\n"
     ]
    }
   ],
   "source": [
    "ml_df.printSchema()"
   ]
  },
  {
   "cell_type": "code",
   "execution_count": 89,
   "metadata": {
    "collapsed": true
   },
   "outputs": [],
   "source": [
    "training, test = ml_df.randomSplit((0.9, 0.1), seed = 1)"
   ]
  },
  {
   "cell_type": "code",
   "execution_count": 90,
   "metadata": {
    "collapsed": false
   },
   "outputs": [
    {
     "name": "stdout",
     "output_type": "stream",
     "text": [
      "+------------------+-----+--------------------+\n",
      "|                id|label|                text|\n",
      "+------------------+-----+--------------------+\n",
      "|668129332066459648|  0.0|e0b40f2381c430f6d...|\n",
      "|668128681945092096|  0.0|برد 😊 (@ miral -...|\n",
      "|668128627406610432|  0.0|christmas market:...|\n",
      "|668129030068166657|  0.0|#noelgeek #ghostb...|\n",
      "|668128937801682945|  0.0|Green Turtle in W...|\n",
      "|668129025890455552|  0.0|#Retail #Job in #...|\n",
      "|668129269160222720|  0.0|#StaracArabia\n",
      "الن...|\n",
      "|668128749032902656|  0.0|#beaurivagegolf #...|\n",
      "|668129231386333185|  0.0|@bm0406 @ionacrv ...|\n",
      "|668129369819357184|  0.0|#Bilinmezlik @ İz...|\n",
      "|668128673560592384|  0.0|Razón tenía aquel...|\n",
      "|668129055238062081|  0.0|349.336 personas ...|\n",
      "|668128820365512704|  0.0|🎉🎉🎉 @ Quilmes,...|\n",
      "|668129436898885633|  0.0|Risottinho de moq...|\n",
      "|668128317044826113|  0.0|fish bowl fridays...|\n",
      "|668128518354698242|  0.0|Viendo el partido...|\n",
      "|667706185517240320|  0.0|Catch The Sooo Se...|\n",
      "|667705011103621120|  0.0|We're #hiring! Cl...|\n",
      "|667705933833834496|  0.0|Old friends thru ...|\n",
      "|667705933825515520|  0.0|I'm at Aydın Fen ...|\n",
      "+------------------+-----+--------------------+\n",
      "only showing top 20 rows\n",
      "\n"
     ]
    }
   ],
   "source": [
    "training.show()"
   ]
  },
  {
   "cell_type": "code",
   "execution_count": 91,
   "metadata": {
    "collapsed": false
   },
   "outputs": [
    {
     "name": "stdout",
     "output_type": "stream",
     "text": [
      "+------------------+-----+--------------------+\n",
      "|                id|label|                text|\n",
      "+------------------+-----+--------------------+\n",
      "|668129436932415488|  1.0|:) https://t.co/r...|\n",
      "|668128627394019328|  0.0|يا عزيزي يالمدريد...|\n",
      "|668129332041265152|  0.0|Soooooo these #ne...|\n",
      "|668128677763379201|  0.0|Açlık oyunları al...|\n",
      "|667705069832306688|  0.0|@PenyukaAnisa wau...|\n",
      "|668130883946188800|  1.0|See a virtual tou...|\n",
      "|668131290781081600|  1.0|HAPPY BIRTHDAY BB...|\n",
      "|668131672475492352|  0.0|I'm at CineRitz f...|\n",
      "|668131018172317697|  0.0|TRAFFIC STOP at S...|\n",
      "|668131919943458817|  0.0|SLS AMG///  😍 @ ...|\n",
      "|668126962271911936|  0.0|Seng ulang tahunn...|\n",
      "|668127545284497408|  0.0|@lndsm101 kkkkk n...|\n",
      "|668380373722660864|  0.0|Mari makan 😋 (at...|\n",
      "|668380608616382464|  0.0|I'm at happy trai...|\n",
      "|668380835104489472|  0.0|Hehe..thx for tod...|\n",
      "|668130045106475010|  0.0|Ver la @premierle...|\n",
      "|668130430961479680|  0.0|• TIME ♡ FLIES •\n",
      "...|\n",
      "|668052060399603713|  0.0|Хорошие зонтики, ...|\n",
      "|668052203018522625|  0.0|See ya omaha. #je...|\n",
      "|668052882478927872|  0.0|Nyam nyam (at @yu...|\n",
      "+------------------+-----+--------------------+\n",
      "only showing top 20 rows\n",
      "\n"
     ]
    }
   ],
   "source": [
    "test.show()"
   ]
  },
  {
   "cell_type": "code",
   "execution_count": 92,
   "metadata": {
    "collapsed": true
   },
   "outputs": [],
   "source": [
    "tokenizer = Tokenizer(inputCol=\"text\", outputCol=\"words\")\n",
    "hashingTF = HashingTF(inputCol=tokenizer.getOutputCol(), outputCol=\"features\")\n",
    "lr = LogisticRegression(maxIter=10, regParam=0.01)\n",
    "pipeline = Pipeline(stages=[tokenizer, hashingTF, lr])"
   ]
  },
  {
   "cell_type": "code",
   "execution_count": 93,
   "metadata": {
    "collapsed": false
   },
   "outputs": [],
   "source": [
    "model = pipeline.fit(training)"
   ]
  },
  {
   "cell_type": "code",
   "execution_count": 94,
   "metadata": {
    "collapsed": false
   },
   "outputs": [],
   "source": [
    "prediction = model.transform(test)\n",
    "selected = prediction.select(\"id\", \"text\", \"label\", \"prediction\")"
   ]
  },
  {
   "cell_type": "code",
   "execution_count": 95,
   "metadata": {
    "collapsed": false
   },
   "outputs": [
    {
     "name": "stdout",
     "output_type": "stream",
     "text": [
      "+------------------+--------------------+-----+----------+\n",
      "|                id|                text|label|prediction|\n",
      "+------------------+--------------------+-----+----------+\n",
      "|668129436932415488|:) https://t.co/r...|  1.0|       0.0|\n",
      "|668128627394019328|يا عزيزي يالمدريد...|  0.0|       0.0|\n",
      "|668129332041265152|Soooooo these #ne...|  0.0|       0.0|\n",
      "|668128677763379201|Açlık oyunları al...|  0.0|       0.0|\n",
      "|667705069832306688|@PenyukaAnisa wau...|  0.0|       0.0|\n",
      "|668130883946188800|See a virtual tou...|  1.0|       0.0|\n",
      "|668131290781081600|HAPPY BIRTHDAY BB...|  1.0|       0.0|\n",
      "|668131672475492352|I'm at CineRitz f...|  0.0|       0.0|\n",
      "|668131018172317697|TRAFFIC STOP at S...|  0.0|       0.0|\n",
      "|668131919943458817|SLS AMG///  😍 @ ...|  0.0|       0.0|\n",
      "|668126962271911936|Seng ulang tahunn...|  0.0|       0.0|\n",
      "|668127545284497408|@lndsm101 kkkkk n...|  0.0|       0.0|\n",
      "|668380373722660864|Mari makan 😋 (at...|  0.0|       0.0|\n",
      "|668380608616382464|I'm at happy trai...|  0.0|       0.0|\n",
      "|668380835104489472|Hehe..thx for tod...|  0.0|       0.0|\n",
      "|668130045106475010|Ver la @premierle...|  0.0|       0.0|\n",
      "|668130430961479680|• TIME ♡ FLIES •\n",
      "...|  0.0|       0.0|\n",
      "|668052060399603713|Хорошие зонтики, ...|  0.0|       0.0|\n",
      "|668052203018522625|See ya omaha. #je...|  0.0|       0.0|\n",
      "|668052882478927872|Nyam nyam (at @yu...|  0.0|       0.0|\n",
      "+------------------+--------------------+-----+----------+\n",
      "only showing top 20 rows\n",
      "\n"
     ]
    }
   ],
   "source": [
    "selected.show()"
   ]
  },
  {
   "cell_type": "code",
   "execution_count": null,
   "metadata": {
    "collapsed": true
   },
   "outputs": [],
   "source": []
  }
 ],
 "metadata": {
  "kernelspec": {
   "display_name": "Python 3",
   "language": "python",
   "name": "python3"
  },
  "language_info": {
   "codemirror_mode": {
    "name": "ipython",
    "version": 3
   },
   "file_extension": ".py",
   "mimetype": "text/x-python",
   "name": "python",
   "nbconvert_exporter": "python",
   "pygments_lexer": "ipython3",
   "version": "3.4.3"
  }
 },
 "nbformat": 4,
 "nbformat_minor": 0
}
