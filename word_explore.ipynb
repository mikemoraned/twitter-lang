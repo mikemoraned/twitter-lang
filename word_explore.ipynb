{
 "cells": [
  {
   "cell_type": "code",
   "execution_count": 52,
   "metadata": {
    "collapsed": false
   },
   "outputs": [
    {
     "data": {
      "text/plain": [
       "<pyspark.context.SparkContext at 0x110e982e8>"
      ]
     },
     "execution_count": 52,
     "metadata": {},
     "output_type": "execute_result"
    }
   ],
   "source": [
    "sc\n"
   ]
  },
  {
   "cell_type": "code",
   "execution_count": 53,
   "metadata": {
    "collapsed": true
   },
   "outputs": [],
   "source": [
    "from pyspark.sql import SQLContext\n",
    "sqlContext = SQLContext(sc)"
   ]
  },
  {
   "cell_type": "code",
   "execution_count": 54,
   "metadata": {
    "collapsed": true
   },
   "outputs": [],
   "source": [
    "df = sqlContext.read.parquet(\"tweets.consolidated.parquet\")"
   ]
  },
  {
   "cell_type": "code",
   "execution_count": 55,
   "metadata": {
    "collapsed": false
   },
   "outputs": [
    {
     "name": "stdout",
     "output_type": "stream",
     "text": [
      "+----------+------------------+--------------------+--------------------+--------+\n",
      "|      user|                id|                text|            location|hasMedia|\n",
      "+----------+------------------+--------------------+--------------------+--------+\n",
      "| 429803867|668129332066459648|e0b40f2381c430f6d...|[27.166142,73.852...|   false|\n",
      "|2575662781|668129436932415488|:) https://t.co/r...|[19.5371016,-96.9...|    true|\n",
      "|2558754024|668128681945092096|برد 😊 (@ miral -...|[29.10425394,48.1...|   false|\n",
      "| 175196235|668128627406610432|christmas market:...|[43.6506691,-79.3...|   false|\n",
      "| 737480838|668128627394019328|يا عزيزي يالمدريد...|[26.21390031,50.4...|   false|\n",
      "|  22921151|668129030068166657|#noelgeek #ghostb...|[45.50757496,-73....|   false|\n",
      "|  93448793|668129332041265152|Soooooo these #ne...|[38.72750195,-90....|   false|\n",
      "| 959736212|668128937801682945|Green Turtle in W...|[39.5640488,-76.9...|   false|\n",
      "|  59972446|668129025890455552|#Retail #Job in #...|[41.4517093,-82.0...|   false|\n",
      "|3234610719|668129269160222720|#StaracArabia\n",
      "الن...|[30.0960606,31.33...|   false|\n",
      "|2329037172|668128677763379201|Açlık oyunları al...|[38.33868221,27.1...|   false|\n",
      "|  86583009|668128749032902656|#beaurivagegolf #...|[34.11432705,-77....|   false|\n",
      "| 569410380|668129231386333185|@bm0406 @ionacrv ...|[19.09500403,72.8...|   false|\n",
      "|2781520319|668129369819357184|#Bilinmezlik @ İz...|[38.29360749,27.1...|   false|\n",
      "| 110213197|668128673560592384|Razón tenía aquel...|[9.91077394,-84.0...|   false|\n",
      "|1179981192|668129055238062081|349.336 personas ...|   [40.4203,-3.7058]|   false|\n",
      "| 156122032|668128820365512704|🎉🎉🎉 @ Quilmes,...| [-34.7203,-58.2694]|   false|\n",
      "|  27737029|668129436898885633|Risottinho de moq...|[-22.97027778,-43...|   false|\n",
      "| 245111438|668128317044826113|fish bowl fridays...|[42.09727335,-75....|   false|\n",
      "| 543604821|668128518354698242|Viendo el partido...|[19.39476248,-99....|   false|\n",
      "+----------+------------------+--------------------+--------------------+--------+\n",
      "only showing top 20 rows\n",
      "\n"
     ]
    }
   ],
   "source": [
    "df.show()\n"
   ]
  },
  {
   "cell_type": "code",
   "execution_count": 56,
   "metadata": {
    "collapsed": false
   },
   "outputs": [
    {
     "name": "stdout",
     "output_type": "stream",
     "text": [
      "root\n",
      " |-- user: long (nullable = true)\n",
      " |-- id: long (nullable = true)\n",
      " |-- text: string (nullable = true)\n",
      " |-- location: struct (nullable = true)\n",
      " |    |-- latitude: double (nullable = true)\n",
      " |    |-- longitude: double (nullable = true)\n",
      " |-- hasMedia: boolean (nullable = true)\n",
      "\n"
     ]
    }
   ],
   "source": [
    "df.printSchema()"
   ]
  },
  {
   "cell_type": "code",
   "execution_count": 57,
   "metadata": {
    "collapsed": false
   },
   "outputs": [
    {
     "name": "stdout",
     "output_type": "stream",
     "text": [
      "+--------------------+\n",
      "|                text|\n",
      "+--------------------+\n",
      "|e0b40f2381c430f6d...|\n",
      "|:) https://t.co/r...|\n",
      "|برد 😊 (@ miral -...|\n",
      "|christmas market:...|\n",
      "|يا عزيزي يالمدريد...|\n",
      "|#noelgeek #ghostb...|\n",
      "|Soooooo these #ne...|\n",
      "|Green Turtle in W...|\n",
      "|#Retail #Job in #...|\n",
      "|#StaracArabia\n",
      "الن...|\n",
      "|Açlık oyunları al...|\n",
      "|#beaurivagegolf #...|\n",
      "|@bm0406 @ionacrv ...|\n",
      "|#Bilinmezlik @ İz...|\n",
      "|Razón tenía aquel...|\n",
      "|349.336 personas ...|\n",
      "|🎉🎉🎉 @ Quilmes,...|\n",
      "|Risottinho de moq...|\n",
      "|fish bowl fridays...|\n",
      "|Viendo el partido...|\n",
      "+--------------------+\n",
      "only showing top 20 rows\n",
      "\n"
     ]
    },
    {
     "data": {
      "text/plain": [
       "2085"
      ]
     },
     "execution_count": 57,
     "metadata": {},
     "output_type": "execute_result"
    }
   ],
   "source": [
    "textDf = df.select(\"text\")\n",
    "textDf.show()\n",
    "textDf.count()"
   ]
  },
  {
   "cell_type": "code",
   "execution_count": 58,
   "metadata": {
    "collapsed": false
   },
   "outputs": [
    {
     "name": "stdout",
     "output_type": "stream",
     "text": [
      "+-------+--------------------+--------------------+\n",
      "|summary|                user|                  id|\n",
      "+-------+--------------------+--------------------+\n",
      "|  count|                2085|                2085|\n",
      "|   mean| 8.986858830489209E8|6.679669002385806...|\n",
      "| stddev|2.3303647371227983E8|                 NaN|\n",
      "|    min|             1629241|  667127803561844741|\n",
      "|    max|          4322320759|  668569637496340480|\n",
      "+-------+--------------------+--------------------+\n",
      "\n"
     ]
    }
   ],
   "source": [
    "df.describe().show()"
   ]
  },
  {
   "cell_type": "code",
   "execution_count": 59,
   "metadata": {
    "collapsed": false
   },
   "outputs": [
    {
     "name": "stdout",
     "output_type": "stream",
     "text": [
      "+--------+-----+\n",
      "|hasMedia|count|\n",
      "+--------+-----+\n",
      "|    true|  118|\n",
      "|   false| 1967|\n",
      "+--------+-----+\n",
      "\n"
     ]
    }
   ],
   "source": [
    "df.groupBy(\"hasMedia\").count().show()"
   ]
  },
  {
   "cell_type": "code",
   "execution_count": 60,
   "metadata": {
    "collapsed": true
   },
   "outputs": [],
   "source": [
    "words = textDf.flatMap(lambda row: row.text.split(\" \"))"
   ]
  },
  {
   "cell_type": "code",
   "execution_count": 61,
   "metadata": {
    "collapsed": false
   },
   "outputs": [],
   "source": [
    "from pyspark.sql import Row\n",
    "words_df = words.map(lambda w: Row(word=w, cnt=1)).toDF()"
   ]
  },
  {
   "cell_type": "code",
   "execution_count": 62,
   "metadata": {
    "collapsed": false
   },
   "outputs": [],
   "source": [
    "word_counts = words_df.groupBy(\"word\").sum()"
   ]
  },
  {
   "cell_type": "code",
   "execution_count": 63,
   "metadata": {
    "collapsed": false
   },
   "outputs": [
    {
     "name": "stdout",
     "output_type": "stream",
     "text": [
      "+--------------------+--------+\n",
      "|                word|sum(cnt)|\n",
      "+--------------------+--------+\n",
      "|          #livemusic|       1|\n",
      "|                  MS|       2|\n",
      "|               check|       7|\n",
      "|           PORTLAND,|       1|\n",
      "|          Beylikdüzü|       2|\n",
      "|                Club|       7|\n",
      "|              🍸🍹🍷|       1|\n",
      "|              casar,|       1|\n",
      "|           #ig_cuneo|       1|\n",
      "|                 7°C|       1|\n",
      "|                foot|       1|\n",
      "|        Platforms...|       1|\n",
      "|                Alto|       1|\n",
      "|               Sweet|       2|\n",
      "|              Porto,|       1|\n",
      "|                  мы|       2|\n",
      "|https://t.co/a8Da...|       1|\n",
      "|          disfrutar…|       1|\n",
      "|            Uvarovo,|       1|\n",
      "|https://t.co/UfuV...|       1|\n",
      "+--------------------+--------+\n",
      "only showing top 20 rows\n",
      "\n"
     ]
    }
   ],
   "source": [
    "word_counts.show()"
   ]
  },
  {
   "cell_type": "code",
   "execution_count": 64,
   "metadata": {
    "collapsed": true
   },
   "outputs": [],
   "source": [
    "words_df.registerTempTable(\"words\")"
   ]
  },
  {
   "cell_type": "code",
   "execution_count": 65,
   "metadata": {
    "collapsed": false
   },
   "outputs": [
    {
     "name": "stdout",
     "output_type": "stream",
     "text": [
      "+---+--------------------+\n",
      "|cnt|                word|\n",
      "+---+--------------------+\n",
      "|  1|e0b40f2381c430f6d...|\n",
      "|  1|                  :)|\n",
      "|  1|https://t.co/rIRY...|\n",
      "|  1|                 برد|\n",
      "|  1|                  😊|\n",
      "|  1|                  (@|\n",
      "|  1|               miral|\n",
      "|  1|                   -|\n",
      "|  1|               ميرال|\n",
      "|  1|                  in|\n",
      "|  1|             Kuwait)|\n",
      "|  1|https://t.co/YfNO...|\n",
      "|  1|           christmas|\n",
      "|  1|             market:|\n",
      "|  1|                that|\n",
      "|  1|                time|\n",
      "|  1|                  of|\n",
      "|  1|                 the|\n",
      "|  1|                year|\n",
      "|  1|               again|\n",
      "+---+--------------------+\n",
      "only showing top 20 rows\n",
      "\n"
     ]
    }
   ],
   "source": [
    "sqlContext.sql(\"SELECT * FROM words\").show()"
   ]
  },
  {
   "cell_type": "code",
   "execution_count": 66,
   "metadata": {
    "collapsed": false
   },
   "outputs": [
    {
     "name": "stdout",
     "output_type": "stream",
     "text": [
      "+---+--------------------+\n",
      "|cnt|                word|\n",
      "+---+--------------------+\n",
      "|  1|e0b40f2381c430f6d...|\n",
      "|  1|                  :)|\n",
      "|  1|https://t.co/rIRY...|\n",
      "|  1|                 برد|\n",
      "|  1|                  😊|\n",
      "|  1|                  (@|\n",
      "|  1|               miral|\n",
      "|  1|                   -|\n",
      "|  1|               ميرال|\n",
      "|  1|                  in|\n",
      "|  1|             Kuwait)|\n",
      "|  1|https://t.co/YfNO...|\n",
      "|  1|           christmas|\n",
      "|  1|             market:|\n",
      "|  1|                that|\n",
      "|  1|                time|\n",
      "|  1|                  of|\n",
      "|  1|                 the|\n",
      "|  1|                year|\n",
      "|  1|               again|\n",
      "+---+--------------------+\n",
      "only showing top 20 rows\n",
      "\n"
     ]
    }
   ],
   "source": [
    "sqlContext.sql(\"\"\"\n",
    "SELECT * FROM words\n",
    "\"\"\").show()"
   ]
  },
  {
   "cell_type": "code",
   "execution_count": 67,
   "metadata": {
    "collapsed": false
   },
   "outputs": [
    {
     "name": "stdout",
     "output_type": "stream",
     "text": [
      "+--------------------+---+\n",
      "|                word|_c1|\n",
      "+--------------------+---+\n",
      "|          #livemusic|  1|\n",
      "|                  MS|  2|\n",
      "|               check|  7|\n",
      "|           PORTLAND,|  1|\n",
      "|          Beylikdüzü|  2|\n",
      "|                Club|  7|\n",
      "|              🍸🍹🍷|  1|\n",
      "|              casar,|  1|\n",
      "|           #ig_cuneo|  1|\n",
      "|                 7°C|  1|\n",
      "|                foot|  1|\n",
      "|        Platforms...|  1|\n",
      "|                Alto|  1|\n",
      "|               Sweet|  2|\n",
      "|              Porto,|  1|\n",
      "|                  мы|  2|\n",
      "|https://t.co/a8Da...|  1|\n",
      "|          disfrutar…|  1|\n",
      "|            Uvarovo,|  1|\n",
      "|https://t.co/UfuV...|  1|\n",
      "+--------------------+---+\n",
      "only showing top 20 rows\n",
      "\n"
     ]
    }
   ],
   "source": [
    "sqlContext.sql(\"\"\"\n",
    "SELECT word,sum(cnt)\n",
    "FROM words\n",
    "GROUP BY word\n",
    "\"\"\").show()"
   ]
  },
  {
   "cell_type": "code",
   "execution_count": 68,
   "metadata": {
    "collapsed": false
   },
   "outputs": [
    {
     "name": "stdout",
     "output_type": "stream",
     "text": [
      "+----------+---+\n",
      "|      word|  c|\n",
      "+----------+---+\n",
      "|        at|514|\n",
      "|        in|499|\n",
      "|         @|401|\n",
      "|       I'm|344|\n",
      "|         -|232|\n",
      "|         —|184|\n",
      "|         a|180|\n",
      "|          |153|\n",
      "|        (@|143|\n",
      "|       the|124|\n",
      "|       and|118|\n",
      "|       for|117|\n",
      "|   #Hiring|112|\n",
      "|        de|108|\n",
      "|        to|106|\n",
      "|        w/| 97|\n",
      "|       (at| 79|\n",
      "|       you| 74|\n",
      "|#CareerArc| 72|\n",
      "|     #Jobs| 72|\n",
      "+----------+---+\n",
      "only showing top 20 rows\n",
      "\n"
     ]
    }
   ],
   "source": [
    "sqlContext.sql(\"\"\"\n",
    "SELECT word,sum(cnt) as c\n",
    "FROM words\n",
    "GROUP BY word\n",
    "ORDER BY c DESC\n",
    "\"\"\").show()"
   ]
  }
 ],
 "metadata": {
  "kernelspec": {
   "display_name": "Python 3",
   "language": "python",
   "name": "python3"
  },
  "language_info": {
   "codemirror_mode": {
    "name": "ipython",
    "version": 3
   },
   "file_extension": ".py",
   "mimetype": "text/x-python",
   "name": "python",
   "nbconvert_exporter": "python",
   "pygments_lexer": "ipython3",
   "version": "3.4.3"
  }
 },
 "nbformat": 4,
 "nbformat_minor": 0
}
