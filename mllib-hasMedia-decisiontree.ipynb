{
 "cells": [
  {
   "cell_type": "code",
   "execution_count": 73,
   "metadata": {
    "collapsed": false
   },
   "outputs": [
    {
     "data": {
      "text/plain": [
       "<pyspark.context.SparkContext at 0x1113eb358>"
      ]
     },
     "execution_count": 73,
     "metadata": {},
     "output_type": "execute_result"
    }
   ],
   "source": [
    "sc\n"
   ]
  },
  {
   "cell_type": "code",
   "execution_count": 74,
   "metadata": {
    "collapsed": true
   },
   "outputs": [],
   "source": [
    "from pyspark.sql import SQLContext\n",
    "sqlContext = SQLContext(sc)"
   ]
  },
  {
   "cell_type": "code",
   "execution_count": 75,
   "metadata": {
    "collapsed": true
   },
   "outputs": [],
   "source": [
    "df = sqlContext.read.parquet(\"tweets.consolidated.parquet\")"
   ]
  },
  {
   "cell_type": "code",
   "execution_count": 76,
   "metadata": {
    "collapsed": false
   },
   "outputs": [
    {
     "name": "stdout",
     "output_type": "stream",
     "text": [
      "+----------+------------------+--------------------+--------------------+--------+\n",
      "|      user|                id|                text|            location|hasMedia|\n",
      "+----------+------------------+--------------------+--------------------+--------+\n",
      "| 429803867|668129332066459648|e0b40f2381c430f6d...|[27.166142,73.852...|   false|\n",
      "|2575662781|668129436932415488|:) https://t.co/r...|[19.5371016,-96.9...|    true|\n",
      "|2558754024|668128681945092096|برد 😊 (@ miral -...|[29.10425394,48.1...|   false|\n",
      "| 175196235|668128627406610432|christmas market:...|[43.6506691,-79.3...|   false|\n",
      "| 737480838|668128627394019328|يا عزيزي يالمدريد...|[26.21390031,50.4...|   false|\n",
      "|  22921151|668129030068166657|#noelgeek #ghostb...|[45.50757496,-73....|   false|\n",
      "|  93448793|668129332041265152|Soooooo these #ne...|[38.72750195,-90....|   false|\n",
      "| 959736212|668128937801682945|Green Turtle in W...|[39.5640488,-76.9...|   false|\n",
      "|  59972446|668129025890455552|#Retail #Job in #...|[41.4517093,-82.0...|   false|\n",
      "|3234610719|668129269160222720|#StaracArabia\n",
      "الن...|[30.0960606,31.33...|   false|\n",
      "|2329037172|668128677763379201|Açlık oyunları al...|[38.33868221,27.1...|   false|\n",
      "|  86583009|668128749032902656|#beaurivagegolf #...|[34.11432705,-77....|   false|\n",
      "| 569410380|668129231386333185|@bm0406 @ionacrv ...|[19.09500403,72.8...|   false|\n",
      "|2781520319|668129369819357184|#Bilinmezlik @ İz...|[38.29360749,27.1...|   false|\n",
      "| 110213197|668128673560592384|Razón tenía aquel...|[9.91077394,-84.0...|   false|\n",
      "|1179981192|668129055238062081|349.336 personas ...|   [40.4203,-3.7058]|   false|\n",
      "| 156122032|668128820365512704|🎉🎉🎉 @ Quilmes,...| [-34.7203,-58.2694]|   false|\n",
      "|  27737029|668129436898885633|Risottinho de moq...|[-22.97027778,-43...|   false|\n",
      "| 245111438|668128317044826113|fish bowl fridays...|[42.09727335,-75....|   false|\n",
      "| 543604821|668128518354698242|Viendo el partido...|[19.39476248,-99....|   false|\n",
      "+----------+------------------+--------------------+--------------------+--------+\n",
      "only showing top 20 rows\n",
      "\n"
     ]
    }
   ],
   "source": [
    "df.show()\n"
   ]
  },
  {
   "cell_type": "code",
   "execution_count": 77,
   "metadata": {
    "collapsed": false
   },
   "outputs": [
    {
     "name": "stdout",
     "output_type": "stream",
     "text": [
      "root\n",
      " |-- user: long (nullable = true)\n",
      " |-- id: long (nullable = true)\n",
      " |-- text: string (nullable = true)\n",
      " |-- location: struct (nullable = true)\n",
      " |    |-- latitude: double (nullable = true)\n",
      " |    |-- longitude: double (nullable = true)\n",
      " |-- hasMedia: boolean (nullable = true)\n",
      "\n"
     ]
    }
   ],
   "source": [
    "df.printSchema()"
   ]
  },
  {
   "cell_type": "code",
   "execution_count": 78,
   "metadata": {
    "collapsed": false
   },
   "outputs": [],
   "source": [
    "df = df.cache()"
   ]
  },
  {
   "cell_type": "code",
   "execution_count": 80,
   "metadata": {
    "collapsed": false
   },
   "outputs": [
    {
     "name": "stdout",
     "output_type": "stream",
     "text": [
      "+--------+-----+\n",
      "|hasMedia|count|\n",
      "+--------+-----+\n",
      "|    true|  118|\n",
      "|   false| 1967|\n",
      "+--------+-----+\n",
      "\n"
     ]
    }
   ],
   "source": [
    "df.groupBy(\"hasMedia\").count().show()"
   ]
  },
  {
   "cell_type": "code",
   "execution_count": 81,
   "metadata": {
    "collapsed": true
   },
   "outputs": [],
   "source": [
    "from pyspark.ml import Pipeline\n",
    "from pyspark.ml.classification import DecisionTreeClassifier\n",
    "from pyspark.ml.feature import StringIndexer, VectorIndexer\n",
    "from pyspark.ml.evaluation import MulticlassClassificationEvaluator\n",
    "from pyspark.mllib.util import MLUtils\n",
    "from pyspark.sql import Row\n",
    "from pyspark.ml.feature import Tokenizer"
   ]
  },
  {
   "cell_type": "code",
   "execution_count": 82,
   "metadata": {
    "collapsed": false
   },
   "outputs": [],
   "source": [
    "def boolToInt(val):\n",
    "    if val:\n",
    "        return 1.0\n",
    "    else:\n",
    "        return 0.0\n",
    "\n",
    "ml_df = sqlContext.createDataFrame(df.map(lambda r : Row(id=r.id, text=r.text, label=boolToInt(r.hasMedia))).collect())\n",
    "\n"
   ]
  },
  {
   "cell_type": "code",
   "execution_count": 83,
   "metadata": {
    "collapsed": false
   },
   "outputs": [
    {
     "name": "stdout",
     "output_type": "stream",
     "text": [
      "+------------------+-----+--------------------+\n",
      "|                id|label|                text|\n",
      "+------------------+-----+--------------------+\n",
      "|668129332066459648|  0.0|e0b40f2381c430f6d...|\n",
      "|668129436932415488|  1.0|:) https://t.co/r...|\n",
      "|668128681945092096|  0.0|برد 😊 (@ miral -...|\n",
      "|668128627406610432|  0.0|christmas market:...|\n",
      "|668128627394019328|  0.0|يا عزيزي يالمدريد...|\n",
      "|668129030068166657|  0.0|#noelgeek #ghostb...|\n",
      "|668129332041265152|  0.0|Soooooo these #ne...|\n",
      "|668128937801682945|  0.0|Green Turtle in W...|\n",
      "|668129025890455552|  0.0|#Retail #Job in #...|\n",
      "|668129269160222720|  0.0|#StaracArabia\n",
      "الن...|\n",
      "|668128677763379201|  0.0|Açlık oyunları al...|\n",
      "|668128749032902656|  0.0|#beaurivagegolf #...|\n",
      "|668129231386333185|  0.0|@bm0406 @ionacrv ...|\n",
      "|668129369819357184|  0.0|#Bilinmezlik @ İz...|\n",
      "|668128673560592384|  0.0|Razón tenía aquel...|\n",
      "|668129055238062081|  0.0|349.336 personas ...|\n",
      "|668128820365512704|  0.0|🎉🎉🎉 @ Quilmes,...|\n",
      "|668129436898885633|  0.0|Risottinho de moq...|\n",
      "|668128317044826113|  0.0|fish bowl fridays...|\n",
      "|668128518354698242|  0.0|Viendo el partido...|\n",
      "+------------------+-----+--------------------+\n",
      "only showing top 20 rows\n",
      "\n"
     ]
    }
   ],
   "source": [
    "ml_df.show()"
   ]
  },
  {
   "cell_type": "code",
   "execution_count": 84,
   "metadata": {
    "collapsed": false
   },
   "outputs": [
    {
     "name": "stdout",
     "output_type": "stream",
     "text": [
      "root\n",
      " |-- id: long (nullable = true)\n",
      " |-- label: double (nullable = true)\n",
      " |-- text: string (nullable = true)\n",
      "\n"
     ]
    }
   ],
   "source": [
    "ml_df.printSchema()"
   ]
  },
  {
   "cell_type": "code",
   "execution_count": 85,
   "metadata": {
    "collapsed": false
   },
   "outputs": [
    {
     "name": "stdout",
     "output_type": "stream",
     "text": [
      "Row(wordvecs=DenseVector([-0.1051, -0.0159, 0.0675]))\n",
      "Row(wordvecs=DenseVector([-0.219, 0.1291, 0.0865]))\n",
      "Row(wordvecs=DenseVector([-0.1474, 0.0314, 0.0006]))\n"
     ]
    }
   ],
   "source": [
    "from pyspark.ml.feature import Word2Vec\n",
    "\n",
    "tokenizer = Tokenizer(inputCol=\"text\", outputCol=\"words\")\n",
    "\n",
    "# Learn a mapping from words to Vectors.\n",
    "word2Vec = Word2Vec(vectorSize=3, minCount=0, inputCol=\"words\", outputCol=\"wordvecs\")\n",
    "model = word2Vec.fit(tokenizer.transform(ml_df))\n",
    "ml_vec_df = model.transform(tokenizer.transform(ml_df))\n",
    "for feature in ml_vec_df.select(\"wordvecs\").take(3):\n",
    "    print(feature)\n"
   ]
  },
  {
   "cell_type": "code",
   "execution_count": 86,
   "metadata": {
    "collapsed": false
   },
   "outputs": [
    {
     "name": "stdout",
     "output_type": "stream",
     "text": [
      "+------------------+-----+--------------------+--------------------+--------------------+\n",
      "|                id|label|                text|               words|            wordvecs|\n",
      "+------------------+-----+--------------------+--------------------+--------------------+\n",
      "|668129332066459648|  0.0|e0b40f2381c430f6d...|[e0b40f2381c430f6...|[-0.1050815135240...|\n",
      "|668129436932415488|  1.0|:) https://t.co/r...|[:), https://t.co...|[-0.2190021015703...|\n",
      "|668128681945092096|  0.0|برد 😊 (@ miral -...|[برد, 😊, (@, mir...|[-0.1473689468370...|\n",
      "|668128627406610432|  0.0|christmas market:...|[christmas, marke...|[-0.0281017047153...|\n",
      "|668128627394019328|  0.0|يا عزيزي يالمدريد...|[يا, عزيزي, يالمد...|[-0.0273308289237...|\n",
      "|668129030068166657|  0.0|#noelgeek #ghostb...|[#noelgeek, #ghos...|[-0.1210067877545...|\n",
      "|668129332041265152|  0.0|Soooooo these #ne...|[soooooo, these, ...|[-0.0882662865691...|\n",
      "|668128937801682945|  0.0|Green Turtle in W...|[green, turtle, i...|[-0.0825941441580...|\n",
      "|668129025890455552|  0.0|#Retail #Job in #...|[#retail, #job, i...|[0.13797220580662...|\n",
      "|668129269160222720|  0.0|#StaracArabia\n",
      "الن...|[#staracarabia, ا...|[-0.1060454837512...|\n",
      "|668128677763379201|  0.0|Açlık oyunları al...|[açlık, oyunları,...|[-0.0877051008865...|\n",
      "|668128749032902656|  0.0|#beaurivagegolf #...|[#beaurivagegolf,...|[-0.1311062552373...|\n",
      "|668129231386333185|  0.0|@bm0406 @ionacrv ...|[@bm0406, @ionacr...|[4.58738093988762...|\n",
      "|668129369819357184|  0.0|#Bilinmezlik @ İz...|[#bilinmezlik, @,...|[-0.1089821634814...|\n",
      "|668128673560592384|  0.0|Razón tenía aquel...|[razón, tenía, aq...|[-0.0772449535262...|\n",
      "|668129055238062081|  0.0|349.336 personas ...|[349.336, persona...|[-0.0234433366606...|\n",
      "|668128820365512704|  0.0|🎉🎉🎉 @ Quilmes,...|[🎉🎉🎉, @, quilm...|[-0.1844782309296...|\n",
      "|668129436898885633|  0.0|Risottinho de moq...|[risottinho, de, ...|[-0.1389982389893...|\n",
      "|668128317044826113|  0.0|fish bowl fridays...|[fish, bowl, frid...|[-0.1339836244005...|\n",
      "|668128518354698242|  0.0|Viendo el partido...|[viendo, el, part...|[-0.1077206712216...|\n",
      "+------------------+-----+--------------------+--------------------+--------------------+\n",
      "only showing top 20 rows\n",
      "\n"
     ]
    }
   ],
   "source": [
    "ml_vec_df.show()"
   ]
  },
  {
   "cell_type": "code",
   "execution_count": 87,
   "metadata": {
    "collapsed": false
   },
   "outputs": [
    {
     "name": "stdout",
     "output_type": "stream",
     "text": [
      "+------------------+-----+--------------------+\n",
      "|                id|label|            wordvecs|\n",
      "+------------------+-----+--------------------+\n",
      "|668129332066459648|  0.0|[-0.1050815135240...|\n",
      "|668129436932415488|  1.0|[-0.2190021015703...|\n",
      "|668128681945092096|  0.0|[-0.1473689468370...|\n",
      "|668128627406610432|  0.0|[-0.0281017047153...|\n",
      "|668128627394019328|  0.0|[-0.0273308289237...|\n",
      "|668129030068166657|  0.0|[-0.1210067877545...|\n",
      "|668129332041265152|  0.0|[-0.0882662865691...|\n",
      "|668128937801682945|  0.0|[-0.0825941441580...|\n",
      "|668129025890455552|  0.0|[0.13797220580662...|\n",
      "|668129269160222720|  0.0|[-0.1060454837512...|\n",
      "|668128677763379201|  0.0|[-0.0877051008865...|\n",
      "|668128749032902656|  0.0|[-0.1311062552373...|\n",
      "|668129231386333185|  0.0|[4.58738093988762...|\n",
      "|668129369819357184|  0.0|[-0.1089821634814...|\n",
      "|668128673560592384|  0.0|[-0.0772449535262...|\n",
      "|668129055238062081|  0.0|[-0.0234433366606...|\n",
      "|668128820365512704|  0.0|[-0.1844782309296...|\n",
      "|668129436898885633|  0.0|[-0.1389982389893...|\n",
      "|668128317044826113|  0.0|[-0.1339836244005...|\n",
      "|668128518354698242|  0.0|[-0.1077206712216...|\n",
      "+------------------+-----+--------------------+\n",
      "only showing top 20 rows\n",
      "\n"
     ]
    }
   ],
   "source": [
    "ml_vec_min_df = ml_vec_df.drop(\"text\").drop(\"words\")\n",
    "ml_vec_min_df.show()"
   ]
  },
  {
   "cell_type": "code",
   "execution_count": 88,
   "metadata": {
    "collapsed": false
   },
   "outputs": [],
   "source": [
    "labelIndexer = StringIndexer(inputCol=\"label\", outputCol=\"indexedLabel\").fit(ml_vec_min_df)"
   ]
  },
  {
   "cell_type": "code",
   "execution_count": 89,
   "metadata": {
    "collapsed": true
   },
   "outputs": [],
   "source": [
    "\n",
    "training, test = ml_vec_min_df.randomSplit((0.7, 0.3), seed = 1)"
   ]
  },
  {
   "cell_type": "code",
   "execution_count": 90,
   "metadata": {
    "collapsed": true
   },
   "outputs": [],
   "source": [
    "dt = DecisionTreeClassifier(labelCol=\"indexedLabel\", featuresCol=\"wordvecs\")\n"
   ]
  },
  {
   "cell_type": "code",
   "execution_count": 91,
   "metadata": {
    "collapsed": true
   },
   "outputs": [],
   "source": [
    "pipeline = Pipeline(stages=[labelIndexer, dt])\n"
   ]
  },
  {
   "cell_type": "code",
   "execution_count": 93,
   "metadata": {
    "collapsed": false
   },
   "outputs": [],
   "source": [
    "model = pipeline.fit(training)"
   ]
  },
  {
   "cell_type": "code",
   "execution_count": 94,
   "metadata": {
    "collapsed": false
   },
   "outputs": [],
   "source": [
    "predictions = model.transform(test)"
   ]
  },
  {
   "cell_type": "code",
   "execution_count": 95,
   "metadata": {
    "collapsed": false
   },
   "outputs": [
    {
     "name": "stdout",
     "output_type": "stream",
     "text": [
      "root\n",
      " |-- id: long (nullable = true)\n",
      " |-- label: double (nullable = true)\n",
      " |-- wordvecs: vector (nullable = true)\n",
      " |-- indexedLabel: double (nullable = true)\n",
      " |-- rawPrediction: vector (nullable = true)\n",
      " |-- probability: vector (nullable = true)\n",
      " |-- prediction: double (nullable = true)\n",
      "\n",
      "+------------------+-----+--------------------+------------+-------------+--------------------+----------+\n",
      "|                id|label|            wordvecs|indexedLabel|rawPrediction|         probability|prediction|\n",
      "+------------------+-----+--------------------+------------+-------------+--------------------+----------+\n",
      "|668129436932415488|  1.0|[-0.2190021015703...|         1.0|  [300.0,8.0]|[0.97402597402597...|       0.0|\n",
      "|668128627394019328|  0.0|[-0.0273308289237...|         0.0|   [13.0,8.0]|[0.61904761904761...|       0.0|\n",
      "|668129332041265152|  0.0|[-0.0882662865691...|         0.0|  [300.0,8.0]|[0.97402597402597...|       0.0|\n",
      "|668128677763379201|  0.0|[-0.0877051008865...|         0.0|  [300.0,8.0]|[0.97402597402597...|       0.0|\n",
      "|668128749032902656|  0.0|[-0.1311062552373...|         0.0|  [300.0,8.0]|[0.97402597402597...|       0.0|\n",
      "|668129055238062081|  0.0|[-0.0234433366606...|         0.0|   [13.0,8.0]|[0.61904761904761...|       0.0|\n",
      "|668129436898885633|  0.0|[-0.1389982389893...|         0.0|  [137.0,0.0]|           [1.0,0.0]|       0.0|\n",
      "|667705933833834496|  0.0|[-0.0487950840698...|         0.0|  [300.0,8.0]|[0.97402597402597...|       0.0|\n",
      "|667705933825515520|  0.0|[-0.2451408080756...|         0.0|   [77.0,0.0]|           [1.0,0.0]|       0.0|\n",
      "|667705535400046593|  0.0|[0.19889285196908...|         0.0|   [45.0,9.0]|[0.83333333333333...|       0.0|\n",
      "|667705069832306688|  0.0|[-0.0239955218774...|         0.0| [101.0,11.0]|[0.90178571428571...|       0.0|\n",
      "|667705992579256320|  0.0|[-0.0190466323401...|         0.0| [101.0,11.0]|[0.90178571428571...|       0.0|\n",
      "|667705619252715520|  0.0|[-0.1546504220200...|         0.0|   [77.0,0.0]|           [1.0,0.0]|       0.0|\n",
      "|668130883946188800|  1.0|[-0.0498293007121...|         1.0|  [300.0,8.0]|[0.97402597402597...|       0.0|\n",
      "|668131290781081600|  1.0|[0.04161962299674...|         1.0| [101.0,11.0]|[0.90178571428571...|       0.0|\n",
      "|668131672475492352|  0.0|[-0.1203543860465...|         0.0| [165.0,13.0]|[0.92696629213483...|       0.0|\n",
      "|668131018172317697|  0.0|[-0.0839086537200...|         0.0|  [130.0,0.0]|           [1.0,0.0]|       0.0|\n",
      "|668131919943458817|  0.0|[-0.1943321777507...|         0.0|   [59.0,0.0]|           [1.0,0.0]|       0.0|\n",
      "|668126962271911936|  0.0|[-0.1602127847986...|         0.0|  [130.0,0.0]|           [1.0,0.0]|       0.0|\n",
      "|668126962280337408|  1.0|[0.18597440991331...|         1.0|   [49.0,0.0]|           [1.0,0.0]|       0.0|\n",
      "+------------------+-----+--------------------+------------+-------------+--------------------+----------+\n",
      "only showing top 20 rows\n",
      "\n"
     ]
    }
   ],
   "source": [
    "predictions.printSchema()\n",
    "predictions.show()"
   ]
  },
  {
   "cell_type": "code",
   "execution_count": 96,
   "metadata": {
    "collapsed": false
   },
   "outputs": [
    {
     "data": {
      "text/plain": [
       "'Accuracy = 0.9426356589147287, Test Error = 0.05736434108527133'"
      ]
     },
     "execution_count": 96,
     "metadata": {},
     "output_type": "execute_result"
    }
   ],
   "source": [
    "evaluator = MulticlassClassificationEvaluator(\n",
    "    labelCol=\"indexedLabel\", predictionCol=\"prediction\", metricName=\"precision\")\n",
    "accuracy = evaluator.evaluate(predictions)\n",
    "\"Accuracy = {0}, Test Error = {1}\".format(accuracy, (1.0 - accuracy))"
   ]
  },
  {
   "cell_type": "code",
   "execution_count": 97,
   "metadata": {
    "collapsed": false
   },
   "outputs": [
    {
     "name": "stdout",
     "output_type": "stream",
     "text": [
      "645\n",
      "608\n",
      "+------------------+-----+--------------------+------------+-------------+--------------------+----------+\n",
      "|                id|label|            wordvecs|indexedLabel|rawPrediction|         probability|prediction|\n",
      "+------------------+-----+--------------------+------------+-------------+--------------------+----------+\n",
      "|668128627394019328|  0.0|[-0.0273308289237...|         0.0|   [13.0,8.0]|[0.61904761904761...|       0.0|\n",
      "|668129332041265152|  0.0|[-0.0882662865691...|         0.0|  [300.0,8.0]|[0.97402597402597...|       0.0|\n",
      "|668128677763379201|  0.0|[-0.0877051008865...|         0.0|  [300.0,8.0]|[0.97402597402597...|       0.0|\n",
      "|668128749032902656|  0.0|[-0.1311062552373...|         0.0|  [300.0,8.0]|[0.97402597402597...|       0.0|\n",
      "|668129055238062081|  0.0|[-0.0234433366606...|         0.0|   [13.0,8.0]|[0.61904761904761...|       0.0|\n",
      "|668129436898885633|  0.0|[-0.1389982389893...|         0.0|  [137.0,0.0]|           [1.0,0.0]|       0.0|\n",
      "|667705933833834496|  0.0|[-0.0487950840698...|         0.0|  [300.0,8.0]|[0.97402597402597...|       0.0|\n",
      "|667705933825515520|  0.0|[-0.2451408080756...|         0.0|   [77.0,0.0]|           [1.0,0.0]|       0.0|\n",
      "|667705535400046593|  0.0|[0.19889285196908...|         0.0|   [45.0,9.0]|[0.83333333333333...|       0.0|\n",
      "|667705069832306688|  0.0|[-0.0239955218774...|         0.0| [101.0,11.0]|[0.90178571428571...|       0.0|\n",
      "|667705992579256320|  0.0|[-0.0190466323401...|         0.0| [101.0,11.0]|[0.90178571428571...|       0.0|\n",
      "|667705619252715520|  0.0|[-0.1546504220200...|         0.0|   [77.0,0.0]|           [1.0,0.0]|       0.0|\n",
      "|668131672475492352|  0.0|[-0.1203543860465...|         0.0| [165.0,13.0]|[0.92696629213483...|       0.0|\n",
      "|668131018172317697|  0.0|[-0.0839086537200...|         0.0|  [130.0,0.0]|           [1.0,0.0]|       0.0|\n",
      "|668131919943458817|  0.0|[-0.1943321777507...|         0.0|   [59.0,0.0]|           [1.0,0.0]|       0.0|\n",
      "|668126962271911936|  0.0|[-0.1602127847986...|         0.0|  [130.0,0.0]|           [1.0,0.0]|       0.0|\n",
      "|668125775305031680|  0.0|[0.06825192621909...|         0.0|  [300.0,8.0]|[0.97402597402597...|       0.0|\n",
      "|668127545284497408|  0.0|[-0.0344093372114...|         0.0|   [13.0,8.0]|[0.61904761904761...|       0.0|\n",
      "|668127339750928384|  0.0|[0.14869336241527...|         0.0| [101.0,11.0]|[0.90178571428571...|       0.0|\n",
      "|668379908150837248|  0.0|[-0.0976984456858...|         0.0|  [130.0,0.0]|           [1.0,0.0]|       0.0|\n",
      "+------------------+-----+--------------------+------------+-------------+--------------------+----------+\n",
      "only showing top 20 rows\n",
      "\n"
     ]
    }
   ],
   "source": [
    "print (\"{0}\".format(predictions.count()))\n",
    "\n",
    "correct = predictions.where(predictions.indexedLabel == predictions.prediction)\n",
    "print (\"{0}\".format(correct.count()))\n",
    "correct.show()\n"
   ]
  },
  {
   "cell_type": "code",
   "execution_count": 98,
   "metadata": {
    "collapsed": false
   },
   "outputs": [
    {
     "name": "stdout",
     "output_type": "stream",
     "text": [
      "DecisionTreeClassificationModel of depth 5 with 49 nodes\n"
     ]
    }
   ],
   "source": [
    "\n",
    "treeModel = model.stages[1]\n",
    "print (treeModel) # summary only"
   ]
  }
 ],
 "metadata": {
  "kernelspec": {
   "display_name": "Python 3",
   "language": "python",
   "name": "python3"
  },
  "language_info": {
   "codemirror_mode": {
    "name": "ipython",
    "version": 3
   },
   "file_extension": ".py",
   "mimetype": "text/x-python",
   "name": "python",
   "nbconvert_exporter": "python",
   "pygments_lexer": "ipython3",
   "version": "3.4.3"
  }
 },
 "nbformat": 4,
 "nbformat_minor": 0
}
